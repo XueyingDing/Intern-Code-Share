{
 "cells": [
  {
   "cell_type": "code",
   "execution_count": 1,
   "metadata": {},
   "outputs": [],
   "source": [
    "from urllib.request import urlopen\n",
    "import os\n",
    "from bs4 import BeautifulSoup as BeautifulSoup\n",
    "import pandas as pd"
   ]
  },
  {
   "cell_type": "code",
   "execution_count": 9,
   "metadata": {},
   "outputs": [],
   "source": [
    "# Step 1: Define funtions to download filings\n",
    "def get_list(ticker):\n",
    "\n",
    "    base_url_part1 = \"http://www.sec.gov/cgi-bin/browse-edgar?action=getcompany&CIK=\"\n",
    "    base_url_part2 = \"&type=&dateb=&owner=&start=\"\n",
    "    base_url_part3 = \"&count=100&output=xml\"\n",
    "    href = []\n",
    "    \n",
    "    for page_number in range(0,2000,100):\n",
    "    \n",
    "        base_url = base_url_part1 + ticker + base_url_part2 + str(page_number) + base_url_part3\n",
    "        \n",
    "        sec_page = urlopen(base_url)\n",
    "        sec_soup = BeautifulSoup(sec_page, \"lxml\")\n",
    "        \n",
    "        filings = sec_soup.findAll('filing')\n",
    "        \n",
    "        for filing in filings:\n",
    "            report_year = int(filing.datefiled.get_text()[0:4])\n",
    "            if (filing.type.get_text() == \"10-Q\") & (report_year > 2008):\n",
    "                print(filing.filinghref.get_text())\n",
    "                href.append(filing.filinghref.get_text())\n",
    "    \n",
    "    return href"
   ]
  },
  {
   "cell_type": "code",
   "execution_count": 10,
   "metadata": {},
   "outputs": [],
   "source": [
    "def download_report(url_list,dir_path):\n",
    "    \n",
    "    target_base_url = 'http://www.sec.gov'\n",
    "    \n",
    "    # type = 'EX-101.INS'\n",
    "    target_file_type = u'EX-101.INS'\n",
    "    \n",
    "    for report_url in url_list:\n",
    "        report_page = urlopen(report_url)\n",
    "        report_soup = BeautifulSoup(report_page, 'lxml')\n",
    "        \n",
    "        xbrl_file = report_soup.findAll('tr')\n",
    "        \n",
    "        for item in xbrl_file:\n",
    "            try:\n",
    "                if item.findAll('td')[3].get_text() == target_file_type:\n",
    "                    if not os.path.exists(dir_path):\n",
    "                        os.makedirs(dir_path)\n",
    "                             \n",
    "                    target_url = target_base_url + item.findAll('td')[2].find('a')['href']\n",
    "                    print(\"Target URL found!\")\n",
    "                    print(\"Target URL is:\", target_url)\n",
    "                    \n",
    "                    file_name = target_url.split('/')[-1]\n",
    "                    print(file_name)\n",
    "                   \n",
    "                    xbrl_report = urlopen(target_url)\n",
    "                    output = open(os.path.join(dir_path,file_name),'wb')\n",
    "                    output.write(xbrl_report.read())\n",
    "                    output.close()\n",
    "                    \n",
    "            except:\n",
    "                pass"
   ]
  },
  {
   "cell_type": "code",
   "execution_count": 11,
   "metadata": {},
   "outputs": [
    {
     "name": "stdout",
     "output_type": "stream",
     "text": [
      "http://www.sec.gov/Archives/edgar/data/1459417/000110465918030256/0001104659-18-030256-index.htm\n",
      "http://www.sec.gov/Archives/edgar/data/1459417/000110465917066642/0001104659-17-066642-index.htm\n",
      "http://www.sec.gov/Archives/edgar/data/1459417/000110465917049907/0001104659-17-049907-index.htm\n",
      "http://www.sec.gov/Archives/edgar/data/1459417/000110465917029892/0001104659-17-029892-index.htm\n",
      "http://www.sec.gov/Archives/edgar/data/1459417/000110465916154594/0001104659-16-154594-index.htm\n",
      "http://www.sec.gov/Archives/edgar/data/1459417/000110465916137033/0001104659-16-137033-index.htm\n",
      "http://www.sec.gov/Archives/edgar/data/1459417/000110465916118289/0001104659-16-118289-index.htm\n",
      "http://www.sec.gov/Archives/edgar/data/1459417/000110465915072735/0001104659-15-072735-index.htm\n",
      "http://www.sec.gov/Archives/edgar/data/1459417/000110465915057188/0001104659-15-057188-index.htm\n",
      "http://www.sec.gov/Archives/edgar/data/1459417/000110465915035575/0001104659-15-035575-index.htm\n",
      "http://www.sec.gov/Archives/edgar/data/1459417/000110465914076553/0001104659-14-076553-index.htm\n",
      "http://www.sec.gov/Archives/edgar/data/1459417/000110465914057593/0001104659-14-057593-index.htm\n",
      "http://www.sec.gov/Archives/edgar/data/1459417/000110465914037658/0001104659-14-037658-index.htm\n",
      "Target URL found!\n",
      "Target URL is: http://www.sec.gov/Archives/edgar/data/1459417/000110465918030256/twou-20180331.xml\n",
      "twou-20180331.xml\n",
      "Target URL found!\n",
      "Target URL is: http://www.sec.gov/Archives/edgar/data/1459417/000110465917066642/twou-20170930.xml\n",
      "twou-20170930.xml\n",
      "Target URL found!\n",
      "Target URL is: http://www.sec.gov/Archives/edgar/data/1459417/000110465917049907/twou-20170630.xml\n",
      "twou-20170630.xml\n",
      "Target URL found!\n",
      "Target URL is: http://www.sec.gov/Archives/edgar/data/1459417/000110465917029892/twou-20170331.xml\n",
      "twou-20170331.xml\n",
      "Target URL found!\n",
      "Target URL is: http://www.sec.gov/Archives/edgar/data/1459417/000110465916154594/twou-20160930.xml\n",
      "twou-20160930.xml\n",
      "Target URL found!\n",
      "Target URL is: http://www.sec.gov/Archives/edgar/data/1459417/000110465916137033/twou-20160630.xml\n",
      "twou-20160630.xml\n",
      "Target URL found!\n",
      "Target URL is: http://www.sec.gov/Archives/edgar/data/1459417/000110465916118289/twou-20160331.xml\n",
      "twou-20160331.xml\n",
      "Target URL found!\n",
      "Target URL is: http://www.sec.gov/Archives/edgar/data/1459417/000110465915072735/twou-20150930.xml\n",
      "twou-20150930.xml\n",
      "Target URL found!\n",
      "Target URL is: http://www.sec.gov/Archives/edgar/data/1459417/000110465915057188/twou-20150630.xml\n",
      "twou-20150630.xml\n",
      "Target URL found!\n",
      "Target URL is: http://www.sec.gov/Archives/edgar/data/1459417/000110465915035575/twou-20150331.xml\n",
      "twou-20150331.xml\n",
      "Target URL found!\n",
      "Target URL is: http://www.sec.gov/Archives/edgar/data/1459417/000110465914076553/twou-20140930.xml\n",
      "twou-20140930.xml\n",
      "Target URL found!\n",
      "Target URL is: http://www.sec.gov/Archives/edgar/data/1459417/000110465914057593/twou-20140630.xml\n",
      "twou-20140630.xml\n",
      "Target URL found!\n",
      "Target URL is: http://www.sec.gov/Archives/edgar/data/1459417/000110465914037658/twou-20140331.xml\n",
      "twou-20140331.xml\n",
      "http://www.sec.gov/Archives/edgar/data/910638/000091063818000011/0000910638-18-000011-index.htm\n",
      "http://www.sec.gov/Archives/edgar/data/910638/000091063817000016/0000910638-17-000016-index.htm\n",
      "http://www.sec.gov/Archives/edgar/data/910638/000091063817000011/0000910638-17-000011-index.htm\n",
      "http://www.sec.gov/Archives/edgar/data/910638/000091063817000007/0000910638-17-000007-index.htm\n",
      "http://www.sec.gov/Archives/edgar/data/910638/000091063816000028/0000910638-16-000028-index.htm\n",
      "http://www.sec.gov/Archives/edgar/data/910638/000091063816000025/0000910638-16-000025-index.htm\n",
      "http://www.sec.gov/Archives/edgar/data/910638/000091063816000020/0000910638-16-000020-index.htm\n",
      "http://www.sec.gov/Archives/edgar/data/910638/000091063815000014/0000910638-15-000014-index.htm\n",
      "http://www.sec.gov/Archives/edgar/data/910638/000091063815000011/0000910638-15-000011-index.htm\n",
      "http://www.sec.gov/Archives/edgar/data/910638/000091063815000006/0000910638-15-000006-index.htm\n",
      "http://www.sec.gov/Archives/edgar/data/910638/000091063814000019/0000910638-14-000019-index.htm\n",
      "http://www.sec.gov/Archives/edgar/data/910638/000091063814000014/0000910638-14-000014-index.htm\n",
      "http://www.sec.gov/Archives/edgar/data/910638/000156276214000103/0001562762-14-000103-index.htm\n",
      "http://www.sec.gov/Archives/edgar/data/910638/000156276213000324/0001562762-13-000324-index.htm\n",
      "http://www.sec.gov/Archives/edgar/data/910638/000119312513308695/0001193125-13-308695-index.htm\n",
      "http://www.sec.gov/Archives/edgar/data/910638/000119312513184477/0001193125-13-184477-index.htm\n",
      "http://www.sec.gov/Archives/edgar/data/910638/000119312512434608/0001193125-12-434608-index.htm\n",
      "http://www.sec.gov/Archives/edgar/data/910638/000119312512315874/0001193125-12-315874-index.htm\n",
      "http://www.sec.gov/Archives/edgar/data/910638/000119312512184178/0001193125-12-184178-index.htm\n",
      "http://www.sec.gov/Archives/edgar/data/910638/000095012311092257/0000950123-11-092257-index.htm\n",
      "http://www.sec.gov/Archives/edgar/data/910638/000095012311069234/0000950123-11-069234-index.htm\n",
      "http://www.sec.gov/Archives/edgar/data/910638/000095012311040534/0000950123-11-040534-index.htm\n",
      "http://www.sec.gov/Archives/edgar/data/910638/000095012310097088/0000950123-10-097088-index.htm\n",
      "http://www.sec.gov/Archives/edgar/data/910638/000095012310069424/0000950123-10-069424-index.htm\n",
      "http://www.sec.gov/Archives/edgar/data/910638/000095012310044071/0000950123-10-044071-index.htm\n",
      "http://www.sec.gov/Archives/edgar/data/910638/000095012309056897/0000950123-09-056897-index.htm\n",
      "http://www.sec.gov/Archives/edgar/data/910638/000095012309028913/0000950123-09-028913-index.htm\n",
      "http://www.sec.gov/Archives/edgar/data/910638/000136231009006625/0001362310-09-006625-index.htm\n",
      "Target URL found!\n",
      "Target URL is: http://www.sec.gov/Archives/edgar/data/910638/000091063818000011/ddd-20180331.xml\n",
      "ddd-20180331.xml\n",
      "Target URL found!\n",
      "Target URL is: http://www.sec.gov/Archives/edgar/data/910638/000091063817000016/ddd-20170930.xml\n",
      "ddd-20170930.xml\n",
      "Target URL found!\n",
      "Target URL is: http://www.sec.gov/Archives/edgar/data/910638/000091063817000011/ddd-20170630.xml\n",
      "ddd-20170630.xml\n",
      "Target URL found!\n",
      "Target URL is: http://www.sec.gov/Archives/edgar/data/910638/000091063817000007/ddd-20170331.xml\n",
      "ddd-20170331.xml\n",
      "Target URL found!\n",
      "Target URL is: http://www.sec.gov/Archives/edgar/data/910638/000091063816000028/ddd-20160930.xml\n",
      "ddd-20160930.xml\n",
      "Target URL found!\n",
      "Target URL is: http://www.sec.gov/Archives/edgar/data/910638/000091063816000025/ddd-20160630.xml\n",
      "ddd-20160630.xml\n",
      "Target URL found!\n",
      "Target URL is: http://www.sec.gov/Archives/edgar/data/910638/000091063816000020/ddd-20160331.xml\n",
      "ddd-20160331.xml\n",
      "Target URL found!\n",
      "Target URL is: http://www.sec.gov/Archives/edgar/data/910638/000091063815000014/ddd-20150930.xml\n",
      "ddd-20150930.xml\n",
      "Target URL found!\n",
      "Target URL is: http://www.sec.gov/Archives/edgar/data/910638/000091063815000011/ddd-20150630.xml\n",
      "ddd-20150630.xml\n",
      "Target URL found!\n",
      "Target URL is: http://www.sec.gov/Archives/edgar/data/910638/000091063815000006/ddd-20150331.xml\n",
      "ddd-20150331.xml\n",
      "Target URL found!\n",
      "Target URL is: http://www.sec.gov/Archives/edgar/data/910638/000091063814000019/c638-20140930.xml\n",
      "c638-20140930.xml\n",
      "Target URL found!\n",
      "Target URL is: http://www.sec.gov/Archives/edgar/data/910638/000091063814000014/c638-20140630.xml\n",
      "c638-20140630.xml\n",
      "Target URL found!\n",
      "Target URL is: http://www.sec.gov/Archives/edgar/data/910638/000156276214000103/c638-20140331.xml\n",
      "c638-20140331.xml\n",
      "Target URL found!\n",
      "Target URL is: http://www.sec.gov/Archives/edgar/data/910638/000156276213000324/ddd-20130930.xml\n",
      "ddd-20130930.xml\n",
      "Target URL found!\n",
      "Target URL is: http://www.sec.gov/Archives/edgar/data/910638/000119312513308695/ddd-20130630.xml\n",
      "ddd-20130630.xml\n",
      "Target URL found!\n",
      "Target URL is: http://www.sec.gov/Archives/edgar/data/910638/000119312513184477/ddd-20130331.xml\n",
      "ddd-20130331.xml\n",
      "Target URL found!\n",
      "Target URL is: http://www.sec.gov/Archives/edgar/data/910638/000119312512434608/ddd-20120930.xml\n",
      "ddd-20120930.xml\n",
      "Target URL found!\n",
      "Target URL is: http://www.sec.gov/Archives/edgar/data/910638/000119312512315874/ddd-20120630.xml\n",
      "ddd-20120630.xml\n",
      "Target URL found!\n",
      "Target URL is: http://www.sec.gov/Archives/edgar/data/910638/000119312512184178/ddd-20120331.xml\n",
      "ddd-20120331.xml\n"
     ]
    },
    {
     "name": "stdout",
     "output_type": "stream",
     "text": [
      "Target URL found!\n",
      "Target URL is: http://www.sec.gov/Archives/edgar/data/910638/000095012311092257/ddd-20110930.xml\n",
      "ddd-20110930.xml\n",
      "Target URL found!\n",
      "Target URL is: http://www.sec.gov/Archives/edgar/data/910638/000095012311069234/tdsc-20110630.xml\n",
      "tdsc-20110630.xml\n"
     ]
    }
   ],
   "source": [
    "# TickerFile = pd.read_csv(\"companylist.csv\")\n",
    "TickerFile = pd.read_csv(\"templist.csv\")\n",
    "Tickers = TickerFile['Symbol'].tolist()\n",
    "\n",
    "tickers = Tickers\n",
    "\n",
    "for ticker in tickers:\n",
    "    url_list= get_list(ticker)\n",
    "    base_path = \"./Downloaded_Filings\"\n",
    "    dir_path = base_path + \"/\"+ticker\n",
    "    download_report(url_list,dir_path)"
   ]
  },
  {
   "cell_type": "code",
   "execution_count": 44,
   "metadata": {},
   "outputs": [
    {
     "name": "stdout",
     "output_type": "stream",
     "text": [
      "Target URL found!\n",
      "Target URL is: http://www.sec.gov/Archives/edgar/data/1459417/000104746918001109/twou-20171231.xml\n",
      "twou-20171231.xml\n"
     ]
    }
   ],
   "source": [
    "target_base_url = 'http://www.sec.gov'\n",
    "target_file_type = u'EX-101.INS'\n",
    "\n",
    "report_page = urlopen(url_list[0])\n",
    "report_soup = BeautifulSoup(report_page, 'lxml')\n",
    "xbrl_file = report_soup.findAll('tr')\n",
    "\n",
    "xbrl_file\n",
    "\n",
    "ticker = tickers[1]\n",
    "\n",
    "base_path = \"./Downloaded_Filings\"\n",
    "dir_path = base_path + \"/\"+ticker\n",
    "\n",
    "for item in xbrl_file:\n",
    "            try:\n",
    "                if item.findAll('td')[3].get_text() == target_file_type:\n",
    "                    if not os.path.exists(dir_path):\n",
    "                        os.makedirs(dir_path)\n",
    "                             \n",
    "                    target_url = target_base_url + item.findAll('td')[2].find('a')['href']\n",
    "                    print(\"Target URL found!\")\n",
    "                    print(\"Target URL is:\", target_url)\n",
    "                    \n",
    "                    file_name = target_url.split('/')[-1]\n",
    "                    print(file_name)\n",
    "                   \n",
    "                    xbrl_report = urlopen(target_url)\n",
    "                    output = open(os.path.join(dir_path,file_name),'wb')\n",
    "                    output.write(xbrl_report.read())\n",
    "                    output.close()\n",
    "                    \n",
    "            except:\n",
    "                pass"
   ]
  },
  {
   "cell_type": "code",
   "execution_count": 45,
   "metadata": {},
   "outputs": [
    {
     "name": "stdout",
     "output_type": "stream",
     "text": [
      "http://www.sec.gov/Archives/edgar/data/1459417/000104746918001109/0001047469-18-001109-index.htm\n",
      "http://www.sec.gov/Archives/edgar/data/1459417/000104746917000950/0001047469-17-000950-index.htm\n",
      "http://www.sec.gov/Archives/edgar/data/1459417/000104746916010989/0001047469-16-010989-index.htm\n",
      "http://www.sec.gov/Archives/edgar/data/1459417/000104746915001305/0001047469-15-001305-index.htm\n"
     ]
    }
   ],
   "source": [
    "url_list = get_list(tickers[1])"
   ]
  },
  {
   "cell_type": "code",
   "execution_count": 62,
   "metadata": {},
   "outputs": [
    {
     "data": {
      "text/plain": [
       "[<td scope=\"row\">9</td>,\n",
       " <td scope=\"row\">EX-101.INS</td>,\n",
       " <td scope=\"row\"><a href=\"/Archives/edgar/data/1459417/000104746918001109/twou-20171231.xml\">twou-20171231.xml</a></td>,\n",
       " <td scope=\"row\">EX-101.INS</td>,\n",
       " <td scope=\"row\">2776770</td>]"
      ]
     },
     "execution_count": 62,
     "metadata": {},
     "output_type": "execute_result"
    }
   ],
   "source": [
    "xbrl_file[15].findAll('td')#[3].get_text() "
   ]
  },
  {
   "cell_type": "code",
   "execution_count": 11,
   "metadata": {},
   "outputs": [],
   "source": [
    "TickerFile = pd.read_csv(\"companylist.csv\")\n",
    "Tickers = TickerFile['Symbol'].tolist()\n",
    "\n",
    "tickers = Tickers"
   ]
  },
  {
   "cell_type": "code",
   "execution_count": 37,
   "metadata": {},
   "outputs": [
    {
     "data": {
      "text/plain": [
       "'TWOU'"
      ]
     },
     "execution_count": 37,
     "metadata": {},
     "output_type": "execute_result"
    }
   ],
   "source": [
    "tickers[1]"
   ]
  },
  {
   "cell_type": "code",
   "execution_count": 15,
   "metadata": {},
   "outputs": [],
   "source": [
    "sec_page = urlopen(\"https://www.sec.gov/cgi-bin/browse-edgar?action=getcompany&CIK=VNET&type=&dateb=&owner=&start=0&count=100&output=xml\")"
   ]
  },
  {
   "cell_type": "code",
   "execution_count": 17,
   "metadata": {},
   "outputs": [],
   "source": [
    "sec_soup = BeautifulSoup(sec_page, \"lxml\")"
   ]
  },
  {
   "cell_type": "code",
   "execution_count": 22,
   "metadata": {},
   "outputs": [
    {
     "data": {
      "text/plain": [
       "<filing>\n",
       "<datefiled>2018-05-18</datefiled>\n",
       "<filinghref>http://www.sec.gov/Archives/edgar/data/1508475/000119312518167099/0001193125-18-167099-index.htm</filinghref>\n",
       "<formname>Report of foreign issuer [Rules 13a-16 and 15d-16]</formname>\n",
       "<type>6-K</type>\n",
       "</filing>"
      ]
     },
     "execution_count": 22,
     "metadata": {},
     "output_type": "execute_result"
    }
   ],
   "source": [
    "filings = sec_soup.findAll('filing')\n",
    "filings[0]"
   ]
  },
  {
   "cell_type": "code",
   "execution_count": 27,
   "metadata": {},
   "outputs": [
    {
     "data": {
      "text/plain": [
       "2018"
      ]
     },
     "execution_count": 27,
     "metadata": {},
     "output_type": "execute_result"
    }
   ],
   "source": [
    "report_year = int(filings[0].datefiled.get_text()[0:4])\n",
    "report_year"
   ]
  },
  {
   "cell_type": "code",
   "execution_count": 28,
   "metadata": {},
   "outputs": [
    {
     "data": {
      "text/plain": [
       "'6-K'"
      ]
     },
     "execution_count": 28,
     "metadata": {},
     "output_type": "execute_result"
    }
   ],
   "source": [
    "filings[0].type.get_text()"
   ]
  },
  {
   "cell_type": "code",
   "execution_count": 29,
   "metadata": {},
   "outputs": [
    {
     "data": {
      "text/plain": [
       "'http://www.sec.gov/Archives/edgar/data/1508475/000119312518167099/0001193125-18-167099-index.htm'"
      ]
     },
     "execution_count": 29,
     "metadata": {},
     "output_type": "execute_result"
    }
   ],
   "source": [
    "filings[0].filinghref.get_text()"
   ]
  },
  {
   "cell_type": "code",
   "execution_count": null,
   "metadata": {},
   "outputs": [],
   "source": []
  }
 ],
 "metadata": {
  "kernelspec": {
   "display_name": "Python 3",
   "language": "python",
   "name": "python3"
  },
  "language_info": {
   "codemirror_mode": {
    "name": "ipython",
    "version": 3
   },
   "file_extension": ".py",
   "mimetype": "text/x-python",
   "name": "python",
   "nbconvert_exporter": "python",
   "pygments_lexer": "ipython3",
   "version": "3.6.4"
  }
 },
 "nbformat": 4,
 "nbformat_minor": 2
}
